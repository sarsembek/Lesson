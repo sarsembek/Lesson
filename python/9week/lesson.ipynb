{
 "cells": [
  {
   "cell_type": "code",
   "execution_count": 3,
   "metadata": {},
   "outputs": [
    {
     "name": "stdout",
     "output_type": "stream",
     "text": [
      "[0, 1, 2, 3, 4, 5, 6, 7, 8, 9]\n"
     ]
    }
   ],
   "source": [
    "a = [x for x in range(10)]\n",
    "print(a)"
   ]
  },
  {
   "cell_type": "code",
   "execution_count": 4,
   "metadata": {},
   "outputs": [
    {
     "name": "stdout",
     "output_type": "stream",
     "text": [
      "25.0\n"
     ]
    }
   ],
   "source": [
    "def arithmetic(x,y,z):\n",
    "    if z == \"+\":\n",
    "        return x + y\n",
    "    elif z == \"-\":\n",
    "        return x - y \n",
    "    elif z == \"*\":\n",
    "        return x * y\n",
    "    elif z == \"/\":\n",
    "        return x / y \n",
    "    else:\n",
    "        return \"Неизвестная операция\"\n",
    "\n",
    "print(arithmetic(100,4,\"/\"))"
   ]
  },
  {
   "cell_type": "code",
   "execution_count": null,
   "metadata": {},
   "outputs": [],
   "source": [
    "for x in range(n):\n",
    "    for y in range(n):\n",
    "        print(x,y)\n",
    "\n",
    "#O(n*n)"
   ]
  },
  {
   "cell_type": "code",
   "execution_count": 12,
   "metadata": {},
   "outputs": [
    {
     "name": "stdout",
     "output_type": "stream",
     "text": [
      "103\n"
     ]
    }
   ],
   "source": [
    "def find_max(arr):\n",
    "    arr = sorted(arr)\n",
    "    return arr[len(arr)-1]\n",
    "\n",
    "list1 = [12, 5, 103, 28, 57]\n",
    "\n",
    "print(find_max(list1))"
   ]
  },
  {
   "cell_type": "code",
   "execution_count": null,
   "metadata": {},
   "outputs": [],
   "source": [
    "# Python program for implementation of Bubble Sort\n",
    "\n",
    "def bubbleSort(arr):\n",
    "\tn = len(arr)\n",
    "\t# optimize code, so if the array is already sorted, it doesn't need\n",
    "\t# to go through the entire process\n",
    "\tswapped = False\n",
    "\t# Traverse through all array elements\n",
    "\tfor i in range(n-1):\n",
    "\t\t# range(n) also work but outer loop will\n",
    "\t\t# repeat one time more than needed.\n",
    "\t\t# Last i elements are already in place\n",
    "\t\tfor j in range(0, n-i-1):\n",
    "\n",
    "\t\t\t# traverse the array from 0 to n-i-1\n",
    "\t\t\t# Swap if the element found is greater\n",
    "\t\t\t# than the next element\n",
    "\t\t\tif arr[j] > arr[j + 1]:\n",
    "\t\t\t\tswapped = True\n",
    "\t\t\t\tarr[j], arr[j + 1] = arr[j + 1], arr[j]\n",
    "\t\t\n",
    "\t\tif not swapped:\n",
    "\t\t\t# if we haven't needed to make a single swap, we \n",
    "\t\t\t# can just exit the main loop.\n",
    "\t\t\treturn\n",
    "\n",
    "\n",
    "# Driver code to test above\n",
    "arr = [64, 34, 25, 12, 22, 11, 90]\n",
    "\n",
    "bubbleSort(arr)\n",
    "\n",
    "print(\"Sorted array is:\")\n",
    "for i in range(len(arr)):\n",
    "\tprint(\"% d\" % arr[i], end=\" \")\n"
   ]
  },
  {
   "cell_type": "code",
   "execution_count": 3,
   "metadata": {},
   "outputs": [
    {
     "name": "stdout",
     "output_type": "stream",
     "text": [
      "[64, 34, 12, 22, 90] [25, 11]\n"
     ]
    }
   ],
   "source": [
    "arr = [64, 34, 25, 12, 22, 11, 90]\n",
    "\n",
    "even = lambda x : x % 2 == 0\n",
    "odd = lambda x : x % 2 != 0\n",
    "evens = list(filter(even, arr))\n",
    "odds = list(filter(odd, arr))\n",
    "print(evens,odds)"
   ]
  }
 ],
 "metadata": {
  "kernelspec": {
   "display_name": "Python 3",
   "language": "python",
   "name": "python3"
  },
  "language_info": {
   "codemirror_mode": {
    "name": "ipython",
    "version": 3
   },
   "file_extension": ".py",
   "mimetype": "text/x-python",
   "name": "python",
   "nbconvert_exporter": "python",
   "pygments_lexer": "ipython3",
   "version": "3.12.0"
  }
 },
 "nbformat": 4,
 "nbformat_minor": 2
}
