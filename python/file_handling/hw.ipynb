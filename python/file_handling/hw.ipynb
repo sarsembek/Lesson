{
 "cells": [
  {
   "cell_type": "code",
   "execution_count": 1,
   "metadata": {},
   "outputs": [
    {
     "name": "stdout",
     "output_type": "stream",
     "text": [
      "dslfjgjdfgjdfgjldfjg\n"
     ]
    }
   ],
   "source": [
    "#1 тапсырма\n",
    "with open('1.txt','r') as file:\n",
    "    content = file.read()\n",
    "\n",
    "    print(content)\n"
   ]
  },
  {
   "cell_type": "code",
   "execution_count": 6,
   "metadata": {},
   "outputs": [],
   "source": [
    "#2 тапсырма\n",
    "with open('2.txt','w') as file:\n",
    "\n",
    "    file.write('Hello, World!')"
   ]
  },
  {
   "cell_type": "code",
   "execution_count": 10,
   "metadata": {},
   "outputs": [
    {
     "name": "stdout",
     "output_type": "stream",
     "text": [
      "<_csv.reader object at 0x000002343ACBA4A0>\n",
      "['hostname', 'vendor', 'model', 'location']\n",
      "['sw1', 'Cisco', '3750', 'London']\n",
      "['sw2', 'Cisco', '3850', 'Liverpool']\n",
      "['sw3', 'Cisco', '3650', 'Liverpool']\n",
      "['sw4', 'Cisco', '3650', 'London']\n"
     ]
    }
   ],
   "source": [
    "#3 тапсырма\n",
    "import csv\n",
    "\n",
    "with open('sw_data.csv','r') as csv_file:\n",
    "    \n",
    "    reader = csv.reader(csv_file)\n",
    "\n",
    "    for row in reader:\n",
    "        print(row)"
   ]
  },
  {
   "cell_type": "code",
   "execution_count": 12,
   "metadata": {},
   "outputs": [],
   "source": [
    "#4 тапсырма\n",
    "import csv\n",
    "\n",
    "with open('data.csv', 'a') as csv_file:\n",
    "\n",
    "    writer = csv.writer(csv_file)\n",
    "\n",
    "    writer.writerow([1,'Astana','Kazakhstan'])"
   ]
  },
  {
   "cell_type": "code",
   "execution_count": 14,
   "metadata": {},
   "outputs": [
    {
     "name": "stdout",
     "output_type": "stream",
     "text": [
      "766666.6666666666\n"
     ]
    }
   ],
   "source": [
    "#5 тапсырма\n",
    "import csv\n",
    "\n",
    "with open('price.csv', 'r') as csv_file:\n",
    "\n",
    "    total_price = 0\n",
    "\n",
    "    num_items = 0\n",
    "\n",
    "    reader = csv.reader(csv_file)\n",
    "\n",
    "    for row in reader:\n",
    "\n",
    "        total_price += float(row[2])\n",
    "\n",
    "        num_items += 1\n",
    "\n",
    "    print(total_price/num_items)\n"
   ]
  },
  {
   "cell_type": "code",
   "execution_count": null,
   "metadata": {},
   "outputs": [],
   "source": []
  }
 ],
 "metadata": {
  "kernelspec": {
   "display_name": "Python 3",
   "language": "python",
   "name": "python3"
  },
  "language_info": {
   "codemirror_mode": {
    "name": "ipython",
    "version": 3
   },
   "file_extension": ".py",
   "mimetype": "text/x-python",
   "name": "python",
   "nbconvert_exporter": "python",
   "pygments_lexer": "ipython3",
   "version": "3.12.0"
  }
 },
 "nbformat": 4,
 "nbformat_minor": 2
}
